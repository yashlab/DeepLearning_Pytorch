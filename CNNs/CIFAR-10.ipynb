{
 "cells": [
  {
   "cell_type": "markdown",
   "metadata": {},
   "source": [
    "#                         Building CNN on CIFAR-10 Dataset"
   ]
  },
  {
   "cell_type": "code",
   "execution_count": 6,
   "metadata": {},
   "outputs": [],
   "source": [
    "# Import Libraries\n",
    "import torch.nn as nn\n",
    "from torchvision import datasets,transforms,models\n",
    "import numpy as np"
   ]
  },
  {
   "cell_type": "code",
   "execution_count": null,
   "metadata": {},
   "outputs": [],
   "source": [
    "# DATA preprocessing\n",
    "transform = transforms.Compose([transforms.ToTensor(),\n",
    "                                transforms.Normalize(mean=(0.5,0.5,0.5),std=(0.5,0.5,0.5))])\n",
    "num_workers = 1\n"
   ]
  },
  {
   "cell_type": "code",
   "execution_count": null,
   "metadata": {},
   "outputs": [],
   "source": [
    "# Check for Dataset Availability\n",
    "\n",
    "train = datasets.CIFAR10('data',train=True,download=True,transform=transform)\n",
    "test  = datasets.CIFAR10('data',train=False,download=True,transform=transform)"
   ]
  },
  {
   "cell_type": "code",
   "execution_count": 13,
   "metadata": {},
   "outputs": [
    {
     "data": {
      "text/plain": [
       "80"
      ]
     },
     "execution_count": 13,
     "metadata": {},
     "output_type": "execute_result"
    }
   ],
   "source": [
    "# Define Validation Parameters\n",
    "\n",
    "valid_pct = 0.2 # The percentage of training data to be used for validation set.\n",
    "\n",
    "total_obs = len(train) \n",
    "indxs = list(range(total_obs))\n",
    "np.random.shuffle(indxs)\n",
    "split = int(np.floor(valid_pct*total_obs))\n",
    "train_indxs, valid_indxs = indxs[split:],indxs[:split]\n"
   ]
  },
  {
   "cell_type": "code",
   "execution_count": 14,
   "metadata": {},
   "outputs": [],
   "source": [
    "# Create Samplers to randomly sample data in TRAIN and VALIDATION sets\n",
    "from torch.utils.data.sampler import SubsetRandomSampler\n",
    "train_sampler = SubsetRandomSampler(train_indxs)\n",
    "valid_sampler = SubsetRandomSampler(valid_indxs)"
   ]
  },
  {
   "cell_type": "code",
   "execution_count": null,
   "metadata": {},
   "outputs": [],
   "source": [
    "# Create Data Loaders\n",
    "\n",
    "train_loader = torch.utils.data.DataLoader(dataset=train,\n",
    "                                          batch_size=32,\n",
    "                                          sampler=train_sampler\n",
    "                                          shuffle=True,\n",
    "                                          num_workers=num_workers)\n",
    "\n",
    "\n",
    "valid_loader = torch.utils.data.DataLoader(dataset=train,\n",
    "                                          batch_size=32,\n",
    "                                          sampler=valid_sampler\n",
    "                                          shuffle=True,\n",
    "                                          num_workers=num_workers)\n",
    "\n",
    "test_loader = torch.utils.data.DataLoader(dataset=test,\n",
    "                                          batch_size=32,\n",
    "                                          shuffle=True,\n",
    "                                          num_workers=num_workers)"
   ]
  },
  {
   "cell_type": "code",
   "execution_count": null,
   "metadata": {},
   "outputs": [],
   "source": [
    "classes = ['airplane', 'automobile',\n",
    "           'bird', 'cat',\n",
    "           'deer','dog',\n",
    "           'frog', 'horse',\n",
    "           'ship', 'truck']"
   ]
  },
  {
   "cell_type": "markdown",
   "metadata": {},
   "source": [
    "- [x] Download Datasets \n",
    "- [x] Create Loaders"
   ]
  },
  {
   "cell_type": "code",
   "execution_count": null,
   "metadata": {},
   "outputs": [],
   "source": []
  },
  {
   "cell_type": "markdown",
   "metadata": {},
   "source": [
    "## Define Network Architecture\n",
    "---"
   ]
  },
  {
   "cell_type": "code",
   "execution_count": 15,
   "metadata": {},
   "outputs": [
    {
     "data": {
      "text/plain": [
       "CNN(\n",
       "  (conv1): Conv2d(3, 16, kernel_size=(3, 3), stride=(1, 1), padding=(1, 1))\n",
       "  (conv2): Conv2d(16, 32, kernel_size=(3, 3), stride=(1, 1))\n",
       "  (pool): MaxPool2d(kernel_size=2, stride=2, padding=0, dilation=1, ceil_mode=False)\n",
       "  (relu): ReLU()\n",
       "  (drop): Dropout(p=0.25, inplace=False)\n",
       "  (fc1): Linear(in_features=144, out_features=128, bias=True)\n",
       "  (fc2): Linear(in_features=128, out_features=32, bias=True)\n",
       "  (fc3): Linear(in_features=32, out_features=10, bias=True)\n",
       ")"
      ]
     },
     "execution_count": 15,
     "metadata": {},
     "output_type": "execute_result"
    }
   ],
   "source": [
    "class CNN(nn.Module):\n",
    "    def __init__(self):\n",
    "        super(CNN,self).__init__()\n",
    "        \n",
    "        self.conv1 = nn.Conv2d(in_channels=3,out_channels=16,kernel_size=3,padding=1)\n",
    "        self.conv2 = nn.Conv2d(in_channels=16,out_channels=32,kernel_size=3)\n",
    "        self.pool  = nn.MaxPool2d(kernel_size=2,stride=2)\n",
    "        self.relu  = nn.ReLU()\n",
    "        self.drop  = nn.Dropout(p=0.25)\n",
    "        self.fc1   = nn.Linear(16*3*3,128)\n",
    "        self.fc2   = nn.Linear(128,32)\n",
    "        self.fc3   = nn.Linear(32,10)\n",
    "        \n",
    "        \n",
    "    def forward(self,x):\n",
    "        x = self.pool(self.relu(self.conv1(x)))\n",
    "        x = self.pool(self.relu(self.conv2(x)))\n",
    "        x = x.view(-1,16*3*3)\n",
    "        x = self.relu(self.fc1(self.drop(x)))\n",
    "        x = self.relu(self.fc2(self.drop(x)))\n",
    "        x = nn.LogSoftmax(self.fc3(x))\n",
    "        \n",
    "        return x\n",
    "        \n",
    "model = CNN()\n",
    "model\n",
    "    "
   ]
  },
  {
   "cell_type": "code",
   "execution_count": 16,
   "metadata": {},
   "outputs": [],
   "source": [
    "# Define Loss\n",
    "\n",
    "criterion = nn.NLLLoss()\n",
    "\n",
    "# Optimizer\n",
    "\n",
    "optimizer = torch.optim.SGD(model.parameters(),lr=0.003,momentum=0.9)"
   ]
  },
  {
   "cell_type": "code",
   "execution_count": null,
   "metadata": {},
   "outputs": [],
   "source": [
    "# Train the Network\n",
    "epochs = 8\n",
    "\n",
    "min_valid_loss = np.Inf\n",
    "\n",
    "for epoch in range(1,epochs+1):\n",
    "    \n",
    "    train_loss =0\n",
    "    valid_loss =0\n",
    "    model.train()\n",
    "    ############################## TRAIN ############################\n",
    "    for img,label in train_loader:\n",
    "        optimizer.zero_grad() # Clear the residual garbage gradients\n",
    "        \n",
    "        if GPU: # Move to GPU if CUDA is available\n",
    "            img,label = img.cuda(),label.cuda()\n",
    "            \n",
    "        output = model(img) # Forward Pass\n",
    "        loss = criterion(output,label) # Calculate the loss\n",
    "        loss.backward() # Backpropagation step to populate the gradients\n",
    "        optimizer.step() # Make the weight updates\n",
    "        \n",
    "        train_loss+=loss.item()*img.shape(0)\n",
    "        \n",
    "    ############################ VALIDATION ############################\n",
    "    model.eval()\n",
    "    \n",
    "    for img,label in valid_loader:\n",
    "        if GPU:\n",
    "            img,label = img.cuda(),label.cuda()\n",
    "            output = model(img) # Forward Pass\n",
    "            loss = criterion(output,label) # Calculate the loss\n",
    "            valid_loss += loss.item()*img.shape(0)\n",
    "            \n",
    "    # calculate average losses\n",
    "    train_loss = train_loss/len(train_loader.dataset)\n",
    "    valid_loss = valid_loss/len(valid_loader.dataset)\n",
    "        \n",
    "    # print training/validation statistics \n",
    "    print('Epoch: {} \\tTraining Loss: {:.6f} \\tValidation Loss: {:.6f}'.format(\n",
    "        epoch, train_loss, valid_loss))\n",
    "    \n",
    "    # save model if validation loss has decreased\n",
    "    if valid_loss <= valid_loss_min:\n",
    "        print('Validation loss decreased ({:.6f} --> {:.6f}).  Saving model ...'.format(\n",
    "        valid_loss_min,\n",
    "        valid_loss))\n",
    "        torch.save(model.state_dict(), 'model_cifar.pt')\n",
    "        valid_loss_min = valid_loss\n",
    "        \n",
    "            \n",
    "\n"
   ]
  },
  {
   "cell_type": "markdown",
   "metadata": {},
   "source": [
    "###  Load the Model with the Lowest Validation Loss"
   ]
  },
  {
   "cell_type": "code",
   "execution_count": null,
   "metadata": {},
   "outputs": [],
   "source": [
    "model.load_state_dict(torch.load('model_cifar.pt'))"
   ]
  },
  {
   "cell_type": "markdown",
   "metadata": {},
   "source": [
    "---"
   ]
  },
  {
   "cell_type": "code",
   "execution_count": 19,
   "metadata": {},
   "outputs": [],
   "source": [
    "# Test the Network\n",
    "test_loss =0\n",
    "\n",
    "correct_class = list(0. for i in range(10))\n",
    "class_total = list(0. for i in range(10))"
   ]
  },
  {
   "cell_type": "code",
   "execution_count": 18,
   "metadata": {},
   "outputs": [
    {
     "data": {
      "text/plain": [
       "[0.0, 0.0, 0.0, 0.0, 0.0, 0.0, 0.0, 0.0, 0.0, 0.0]"
      ]
     },
     "execution_count": 18,
     "metadata": {},
     "output_type": "execute_result"
    }
   ],
   "source": [
    "model.eval()\n",
    "\n",
    "for data,target for test_loader:\n",
    "    # move tensors to GPU if CUDA is available\n",
    "    if train_on_gpu:\n",
    "        data, target = data.cuda(), target.cuda()\n",
    "    # forward pass: compute predicted outputs by passing inputs to the model\n",
    "    output = model(data)\n",
    "    # calculate the batch loss\n",
    "    loss = criterion(output, target)\n",
    "    # update test loss \n",
    "    test_loss += loss.item()*data.size(0)\n",
    "    # convert output probabilities to predicted class\n",
    "    \n",
    "    _,pred = torch.max(output,1)\n",
    "    \n",
    "    # compare predictions to true label\n",
    "    correct_tensor = pred.eq(target.data.view_as(pred))\n",
    "    correct = np.squeeze(correct_tensor.numpy()) if not train_on_gpu else np.squeeze(correct_tensor.cpu().numpy())\n",
    "    # calculate test accuracy for each object class\n",
    "    \n",
    "    for i in range(batch_size):\n",
    "        label = target.data[i]\n",
    "        class_correct[label] += correct[i].item()\n",
    "        class_total[label] += 1\n",
    "        \n",
    "# average test loss\n",
    "test_loss = test_loss/len(test_loader.dataset)\n",
    "print('Test Loss: {:.6f}\\n'.format(test_loss))\n",
    "\n",
    "for i in range(10):\n",
    "    if class_total[i] > 0:\n",
    "        print('Test Accuracy of %5s: %2d%% (%2d/%2d)' % (\n",
    "            classes[i], 100 * class_correct[i] / class_total[i],\n",
    "            np.sum(class_correct[i]), np.sum(class_total[i])))\n",
    "    else:\n",
    "        print('Test Accuracy of %5s: N/A (no training examples)' % (classes[i]))\n",
    "\n",
    "print('\\nTest Accuracy (Overall): %2d%% (%2d/%2d)' % (\n",
    "    100. * np.sum(class_correct) / np.sum(class_total),\n",
    "    np.sum(class_correct), np.sum(class_total)))\n",
    "        \n"
   ]
  },
  {
   "cell_type": "code",
   "execution_count": null,
   "metadata": {},
   "outputs": [],
   "source": []
  }
 ],
 "metadata": {
  "kernelspec": {
   "display_name": "Python 3",
   "language": "python",
   "name": "python3"
  },
  "language_info": {
   "codemirror_mode": {
    "name": "ipython",
    "version": 3
   },
   "file_extension": ".py",
   "mimetype": "text/x-python",
   "name": "python",
   "nbconvert_exporter": "python",
   "pygments_lexer": "ipython3",
   "version": "3.7.6"
  }
 },
 "nbformat": 4,
 "nbformat_minor": 4
}
