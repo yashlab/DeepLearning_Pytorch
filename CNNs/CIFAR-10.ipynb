{
 "cells": [
  {
   "cell_type": "markdown",
   "metadata": {},
   "source": [
    "#                         Building **CNN** on CIFAR-10 Dataset\n",
    "- Author : **yashlab**\n",
    "- DATE   : **Mar/21/20**"
   ]
  },
  {
   "cell_type": "code",
   "execution_count": 1,
   "metadata": {},
   "outputs": [],
   "source": [
    "# Import Libraries\n",
    "import torch\n",
    "import torch.nn as nn\n",
    "from torchvision import datasets,transforms,models\n",
    "import numpy as np"
   ]
  },
  {
   "cell_type": "code",
   "execution_count": 12,
   "metadata": {},
   "outputs": [],
   "source": [
    "# Check for GPU\n",
    "GPU = torch.device('cuda:0' if torch.cuda.is_available() else None)\n",
    "\n",
    "if not GPU:\n",
    "    print('CUDA is not available.  Training on CPU ...')\n",
    "else:\n",
    "    print('CUDA is available!  Training on GPU ...')"
   ]
  },
  {
   "cell_type": "markdown",
   "metadata": {},
   "source": [
    "The major steps in the pipeline are \n",
    "- [ ] Download Datasets \n",
    "- [ ] Create Loaders\n",
    "- [ ] View Data\n",
    "- [ ] Define Model\n",
    "- [ ] Define Loss and Optimizer\n",
    "- [ ] Train Model & Observe Performance on Validation\n",
    "- [ ] Save the Model\n",
    "- [ ] Test Accuracy"
   ]
  },
  {
   "cell_type": "markdown",
   "metadata": {},
   "source": [
    "## Data Preparation\n",
    "---"
   ]
  },
  {
   "cell_type": "code",
   "execution_count": 13,
   "metadata": {},
   "outputs": [],
   "source": [
    "# DATA preprocessing\n",
    "transform = transforms.Compose([transforms.ToTensor(),\n",
    "                                transforms.Normalize(mean=(0.5,0.5,0.5),std=(0.5,0.5,0.5))])\n",
    "# Number of Workers to load data\n",
    "num_workers = 1\n",
    "\n",
    "# Number of data points (images, in this case) in a batch\n",
    "batch_size  = 32"
   ]
  },
  {
   "cell_type": "code",
   "execution_count": 3,
   "metadata": {},
   "outputs": [
    {
     "name": "stdout",
     "output_type": "stream",
     "text": [
      "Files already downloaded and verified\n",
      "Files already downloaded and verified\n"
     ]
    }
   ],
   "source": [
    "# Check for Dataset Availability\n",
    "\n",
    "train = datasets.CIFAR10('data',train=True,download=True,transform=transform)\n",
    "test  = datasets.CIFAR10('data',train=False,download=True,transform=transform)"
   ]
  },
  {
   "cell_type": "code",
   "execution_count": 4,
   "metadata": {},
   "outputs": [],
   "source": [
    "# Define Validation Parameters\n",
    "\n",
    "valid_pct = 0.2 # The percentage of training data to be used for validation set.\n",
    "\n",
    "total_obs = len(train) \n",
    "indxs = list(range(total_obs))\n",
    "np.random.shuffle(indxs)\n",
    "split = int(np.floor(valid_pct*total_obs))\n",
    "train_indxs, valid_indxs = indxs[split:],indxs[:split]\n"
   ]
  },
  {
   "cell_type": "code",
   "execution_count": 5,
   "metadata": {},
   "outputs": [],
   "source": [
    "# Create Samplers to randomly sample data in TRAIN and VALIDATION sets\n",
    "from torch.utils.data.sampler import SubsetRandomSampler\n",
    "train_sampler = SubsetRandomSampler(train_indxs)\n",
    "valid_sampler = SubsetRandomSampler(valid_indxs)"
   ]
  },
  {
   "cell_type": "code",
   "execution_count": 6,
   "metadata": {},
   "outputs": [],
   "source": [
    "# Create Data Loaders\n",
    "\n",
    "train_loader = torch.utils.data.DataLoader(dataset=train,\n",
    "                                          batch_size=32,\n",
    "                                          sampler=train_sampler,\n",
    "                                          num_workers=num_workers)\n",
    "\n",
    "\n",
    "valid_loader = torch.utils.data.DataLoader(dataset=train,\n",
    "                                          batch_size=32,\n",
    "                                          sampler=valid_sampler,\n",
    "                                          num_workers=num_workers)\n",
    "\n",
    "test_loader = torch.utils.data.DataLoader(dataset=test,\n",
    "                                          batch_size=32,\n",
    "                                          shuffle=True,\n",
    "                                          num_workers=num_workers)"
   ]
  },
  {
   "cell_type": "markdown",
   "metadata": {},
   "source": [
    "- [x] Download Datasets \n",
    "- [x] Create Loaders"
   ]
  },
  {
   "cell_type": "code",
   "execution_count": 7,
   "metadata": {},
   "outputs": [],
   "source": [
    "classes = ['airplane', 'automobile',\n",
    "           'bird', 'cat',\n",
    "           'deer','dog',\n",
    "           'frog', 'horse',\n",
    "           'ship', 'truck']"
   ]
  },
  {
   "cell_type": "code",
   "execution_count": null,
   "metadata": {},
   "outputs": [],
   "source": [
    "# obtain one batch of training images\n",
    "dataiter = iter(train_loader)\n",
    "images, labels = dataiter.next()\n",
    "images = images.numpy() # convert images to numpy for display\n",
    "\n",
    "# plot the images in the batch, along with the corresponding labels\n",
    "fig = plt.figure(figsize=(25, 4))\n",
    "# display 20 images\n",
    "for idx in np.arange(20):\n",
    "    ax = fig.add_subplot(2, 20/2, idx+1, xticks=[], yticks=[])\n",
    "    imshow(images[idx])\n",
    "    ax.set_title(classes[labels[idx]])"
   ]
  },
  {
   "cell_type": "markdown",
   "metadata": {},
   "source": [
    "- [x] View Data"
   ]
  },
  {
   "cell_type": "markdown",
   "metadata": {},
   "source": [
    "## Define Network Architecture\n",
    "---"
   ]
  },
  {
   "cell_type": "code",
   "execution_count": 63,
   "metadata": {},
   "outputs": [
    {
     "data": {
      "text/plain": [
       "CNN(\n",
       "  (conv1): Conv2d(3, 16, kernel_size=(3, 3), stride=(1, 1), padding=(1, 1))\n",
       "  (conv2): Conv2d(16, 32, kernel_size=(3, 3), stride=(1, 1), padding=(1, 1))\n",
       "  (conv3): Conv2d(32, 64, kernel_size=(3, 3), stride=(1, 1), padding=(1, 1))\n",
       "  (fc1): Linear(in_features=1024, out_features=256, bias=True)\n",
       "  (fc2): Linear(in_features=256, out_features=64, bias=True)\n",
       "  (fc3): Linear(in_features=64, out_features=32, bias=True)\n",
       "  (fc4): Linear(in_features=32, out_features=10, bias=True)\n",
       "  (pool): MaxPool2d(kernel_size=2, stride=2, padding=0, dilation=1, ceil_mode=False)\n",
       "  (drop): Dropout(p=0.25, inplace=False)\n",
       "  (relu): ReLU()\n",
       ")"
      ]
     },
     "execution_count": 63,
     "metadata": {},
     "output_type": "execute_result"
    }
   ],
   "source": [
    "class CNN(nn.Module):\n",
    "    def __init__(self):\n",
    "        super(CNN,self).__init__()\n",
    "        \n",
    "        # Input of (3*32*32)\n",
    "        self.conv1 = nn.Conv2d(in_channels=3,out_channels=16,kernel_size=3,padding=1)\n",
    "        # Input of (16*16*16)\n",
    "        self.conv2 = nn.Conv2d(in_channels=16,out_channels=32,kernel_size=3,padding=1)\n",
    "        # Input of (8*8*32)\n",
    "        self.conv3 = nn.Conv2d(in_channels=32,out_channels=64,kernel_size=3,padding=1)\n",
    "        #Input of (4*4*64)\n",
    "        \n",
    "        # Fully Connected Layers\n",
    "        self.fc1   = nn.Linear(4*4*64,256)\n",
    "        self.fc2   = nn.Linear(256,64)\n",
    "        self.fc3   = nn.Linear(64,32)\n",
    "        self.fc4   = nn.Linear(32,10)\n",
    "        \n",
    "        # Other Layers\n",
    "        self.pool  = nn.MaxPool2d(kernel_size=2,stride=2)\n",
    "        self.drop  = nn.Dropout(p=0.25)\n",
    "        self.relu  = nn.ReLU()\n",
    "        \n",
    "        \n",
    "        \n",
    "    def forward(self,x):\n",
    "        x = self.pool(self.relu(self.conv1(x)))\n",
    "        x = self.pool(self.relu(self.conv2(x)))\n",
    "        x = self.pool(self.relu(self.conv3(x)))\n",
    "        x = x.view(-1,4*4*64)\n",
    "        \n",
    "        x = self.relu(self.fc1(self.drop(x)))\n",
    "        x = self.relu(self.fc2(self.drop(x)))\n",
    "        x = self.relu(self.fc3(self.drop(x)))\n",
    "        x = self.fc4(x)\n",
    "        return x\n",
    "        \n",
    "model = CNN()\n",
    "model.to(GPU)\n",
    "    "
   ]
  },
  {
   "cell_type": "code",
   "execution_count": 64,
   "metadata": {},
   "outputs": [],
   "source": [
    "# Define Loss\n",
    "criterion = nn.CrossEntropyLoss()\n",
    "\n",
    "# Optimizer\n",
    "optimizer = torch.optim.SGD(model.parameters(),lr=0.005,momentum=0.9)"
   ]
  },
  {
   "cell_type": "markdown",
   "metadata": {},
   "source": [
    "- [x] Define Model\n",
    "- [x] Define Loss and Optimizer"
   ]
  },
  {
   "cell_type": "markdown",
   "metadata": {},
   "source": [
    "## Train, Validate, Test\n",
    "---\n",
    "#### Train and Validate"
   ]
  },
  {
   "cell_type": "code",
   "execution_count": 65,
   "metadata": {},
   "outputs": [
    {
     "name": "stdout",
     "output_type": "stream",
     "text": [
      "Epoch: 1 \tTraining Loss: 1.815896 \tValidation Loss: 0.413835\n",
      "Validation loss decreased (inf --> 0.413835).  Saving model ...\n",
      "Epoch: 2 \tTraining Loss: 1.450451 \tValidation Loss: 0.314111\n",
      "Validation loss decreased (0.413835 --> 0.314111).  Saving model ...\n",
      "Epoch: 3 \tTraining Loss: 1.199339 \tValidation Loss: 0.273899\n",
      "Validation loss decreased (0.314111 --> 0.273899).  Saving model ...\n",
      "Epoch: 4 \tTraining Loss: 1.064415 \tValidation Loss: 0.230981\n",
      "Validation loss decreased (0.273899 --> 0.230981).  Saving model ...\n",
      "Epoch: 5 \tTraining Loss: 0.962579 \tValidation Loss: 0.218579\n",
      "Validation loss decreased (0.230981 --> 0.218579).  Saving model ...\n",
      "Epoch: 6 \tTraining Loss: 0.891027 \tValidation Loss: 0.206403\n",
      "Validation loss decreased (0.218579 --> 0.206403).  Saving model ...\n",
      "Epoch: 7 \tTraining Loss: 0.827033 \tValidation Loss: 0.190449\n",
      "Validation loss decreased (0.206403 --> 0.190449).  Saving model ...\n",
      "Epoch: 8 \tTraining Loss: 0.777883 \tValidation Loss: 0.186058\n",
      "Validation loss decreased (0.190449 --> 0.186058).  Saving model ...\n",
      "Epoch: 9 \tTraining Loss: 0.728169 \tValidation Loss: 0.174157\n",
      "Validation loss decreased (0.186058 --> 0.174157).  Saving model ...\n",
      "Epoch: 10 \tTraining Loss: 0.694815 \tValidation Loss: 0.170543\n",
      "Validation loss decreased (0.174157 --> 0.170543).  Saving model ...\n",
      "Epoch: 11 \tTraining Loss: 0.651724 \tValidation Loss: 0.162449\n",
      "Validation loss decreased (0.170543 --> 0.162449).  Saving model ...\n",
      "Epoch: 12 \tTraining Loss: 0.621912 \tValidation Loss: 0.153861\n",
      "Validation loss decreased (0.162449 --> 0.153861).  Saving model ...\n",
      "Epoch: 13 \tTraining Loss: 0.601086 \tValidation Loss: 0.157435\n",
      "Epoch: 14 \tTraining Loss: 0.572238 \tValidation Loss: 0.151114\n",
      "Validation loss decreased (0.153861 --> 0.151114).  Saving model ...\n",
      "Epoch: 15 \tTraining Loss: 0.556827 \tValidation Loss: 0.150393\n",
      "Validation loss decreased (0.151114 --> 0.150393).  Saving model ...\n",
      "Epoch: 16 \tTraining Loss: 0.538830 \tValidation Loss: 0.157799\n",
      "Epoch: 17 \tTraining Loss: 0.521722 \tValidation Loss: 0.151023\n",
      "Epoch: 18 \tTraining Loss: 0.500390 \tValidation Loss: 0.147103\n",
      "Validation loss decreased (0.150393 --> 0.147103).  Saving model ...\n",
      "Epoch: 19 \tTraining Loss: 0.489623 \tValidation Loss: 0.152869\n",
      "Epoch: 20 \tTraining Loss: 0.469550 \tValidation Loss: 0.145930\n",
      "Validation loss decreased (0.147103 --> 0.145930).  Saving model ...\n",
      "Epoch: 21 \tTraining Loss: 0.457402 \tValidation Loss: 0.148303\n",
      "Epoch: 22 \tTraining Loss: 0.441563 \tValidation Loss: 0.145965\n",
      "Epoch: 23 \tTraining Loss: 0.433183 \tValidation Loss: 0.151270\n",
      "Epoch: 24 \tTraining Loss: 0.430129 \tValidation Loss: 0.149396\n",
      "Epoch: 25 \tTraining Loss: 0.414538 \tValidation Loss: 0.153171\n",
      "Epoch: 26 \tTraining Loss: 0.407925 \tValidation Loss: 0.148318\n",
      "Epoch: 27 \tTraining Loss: 0.394277 \tValidation Loss: 0.149718\n",
      "Epoch: 28 \tTraining Loss: 0.392042 \tValidation Loss: 0.149674\n",
      "Epoch: 29 \tTraining Loss: 0.384336 \tValidation Loss: 0.149796\n",
      "Epoch: 30 \tTraining Loss: 0.366882 \tValidation Loss: 0.152165\n",
      "Epoch: 31 \tTraining Loss: 0.365938 \tValidation Loss: 0.146340\n",
      "Epoch: 32 \tTraining Loss: 0.358315 \tValidation Loss: 0.161919\n"
     ]
    }
   ],
   "source": [
    "# Train the Network\n",
    "epochs = 32\n",
    "\n",
    "valid_loss_min = np.Inf\n",
    "\n",
    "for epoch in range(1,epochs+1):\n",
    "    \n",
    "    train_loss =0\n",
    "    valid_loss =0\n",
    "    model.train()  # Set to train mode\n",
    "    ############################## TRAIN ############################\n",
    "    for img,label in train_loader:\n",
    "        optimizer.zero_grad() # Clear the residual garbage gradients\n",
    "        \n",
    "        if GPU: # Move to GPU if CUDA is available\n",
    "            img,label = img.cuda(),label.cuda()\n",
    "            \n",
    "        output = model(img) # Forward Pass\n",
    "        loss = criterion(output,label) # Calculate the loss\n",
    "        loss.backward() # Backpropagation step to populate the gradients\n",
    "        optimizer.step() # Make the weight updates\n",
    "        \n",
    "        train_loss+=loss.item()*img.size(0)\n",
    "        \n",
    "    ############################ VALIDATION ############################\n",
    "    model.eval() # Set to evaluation mode\n",
    "    \n",
    "    for img,label in valid_loader:\n",
    "        if GPU:\n",
    "            img,label = img.cuda(),label.cuda()\n",
    "            output = model(img) # Forward Pass\n",
    "            loss = criterion(output,label) # Calculate the loss\n",
    "            valid_loss += loss.item()*img.size(0)\n",
    "            \n",
    "    # calculate average losses\n",
    "    train_loss = train_loss/len(train_loader.dataset)\n",
    "    valid_loss = valid_loss/len(valid_loader.dataset)\n",
    "        \n",
    "    # print training/validation statistics \n",
    "    print('Epoch: {} \\tTraining Loss: {:.6f} \\tValidation Loss: {:.6f}'.format(\n",
    "        epoch, train_loss, valid_loss))\n",
    "    \n",
    "    # save model if validation loss has decreased\n",
    "    if valid_loss <= valid_loss_min:\n",
    "        print('Validation loss decreased ({:.6f} --> {:.6f}).  Saving model ...'.format(\n",
    "        valid_loss_min,\n",
    "        valid_loss))\n",
    "        torch.save(model.state_dict(), 'model_cifar.pt')\n",
    "        valid_loss_min = valid_loss\n",
    "        \n",
    "            \n",
    "\n"
   ]
  },
  {
   "cell_type": "markdown",
   "metadata": {},
   "source": [
    "####  Load the Model with the Lowest Validation Loss"
   ]
  },
  {
   "cell_type": "code",
   "execution_count": 66,
   "metadata": {},
   "outputs": [
    {
     "data": {
      "text/plain": [
       "<All keys matched successfully>"
      ]
     },
     "execution_count": 66,
     "metadata": {},
     "output_type": "execute_result"
    }
   ],
   "source": [
    "model.load_state_dict(torch.load('model_cifar.pt'))"
   ]
  },
  {
   "cell_type": "markdown",
   "metadata": {},
   "source": [
    "- [x] Train Model & Observe Performance on Validation\n",
    "- [x] Save the Model"
   ]
  },
  {
   "cell_type": "markdown",
   "metadata": {},
   "source": [
    "#### Performance on Test Set"
   ]
  },
  {
   "cell_type": "code",
   "execution_count": 67,
   "metadata": {},
   "outputs": [],
   "source": [
    "# Test the Network\n",
    "test_loss =0\n",
    "\n",
    "class_correct = list(0. for i in range(10))\n",
    "class_total = list(0. for i in range(10))"
   ]
  },
  {
   "cell_type": "code",
   "execution_count": 71,
   "metadata": {},
   "outputs": [
    {
     "name": "stderr",
     "output_type": "stream",
     "text": [
      "Exception ignored in: <function _MultiProcessingDataLoaderIter.__del__ at 0x7fc559e9e5f0>\n",
      "Traceback (most recent call last):\n",
      "  File \"/opt/conda/lib/python3.7/site-packages/torch/utils/data/dataloader.py\", line 961, in __del__\n",
      "    self._shutdown_workers()\n",
      "  File \"/opt/conda/lib/python3.7/site-packages/torch/utils/data/dataloader.py\", line 941, in _shutdown_workers\n",
      "    w.join()\n",
      "  File \"/opt/conda/lib/python3.7/multiprocessing/process.py\", line 138, in join\n",
      "    assert self._parent_pid == os.getpid(), 'can only join a child process'\n",
      "AssertionError: can only join a child process\n"
     ]
    },
    {
     "name": "stdout",
     "output_type": "stream",
     "text": [
      "Test Loss: 0.756090\n",
      "\n",
      "Test Accuracy of airplane: 79% (232/293)\n",
      "Test Accuracy of automobile: 88% (275/312)\n",
      "Test Accuracy of  bird: 61% (202/331)\n",
      "Test Accuracy of   cat: 58% (188/321)\n",
      "Test Accuracy of  deer: 70% (223/316)\n",
      "Test Accuracy of   dog: 59% (187/316)\n",
      "Test Accuracy of  frog: 81% (249/307)\n",
      "Test Accuracy of horse: 81% (261/321)\n",
      "Test Accuracy of  ship: 82% (244/297)\n",
      "Test Accuracy of truck: 81% (258/316)\n",
      "\n",
      "Test Accuracy (Overall): 74% (2319/3130)\n"
     ]
    }
   ],
   "source": [
    "# track test loss\n",
    "test_loss = 0.0\n",
    "class_correct = list(0. for i in range(10))\n",
    "class_total = list(0. for i in range(10))\n",
    "\n",
    "model.eval()\n",
    "# iterate over test data\n",
    "############################## TEST ############################\n",
    "for data, target in test_loader:\n",
    "    # move tensors to GPU if CUDA is available\n",
    "    if GPU:\n",
    "        data, target = data.cuda(), target.cuda()\n",
    "    # forward pass: compute predicted outputs by passing inputs to the model\n",
    "    output = model(data)\n",
    "    # calculate the batch loss\n",
    "    loss = criterion(output, target)\n",
    "    # update test loss \n",
    "    test_loss += loss.item()*data.size(0)\n",
    "    # convert output probabilities to predicted class\n",
    "    _, pred = torch.max(output, 1)    \n",
    "    # compare predictions to true label\n",
    "    correct_tensor = pred.eq(target.data.view_as(pred))\n",
    "    correct = np.squeeze(correct_tensor.numpy()) if not GPU else np.squeeze(correct_tensor.cpu().numpy())\n",
    "    # calculate test accuracy for each object class\n",
    "    for i in range(10):\n",
    "        label = target.data[i]\n",
    "        class_correct[label] += correct[i].item()\n",
    "        class_total[label] += 1\n",
    "\n",
    "# average test loss\n",
    "test_loss = test_loss/len(test_loader.dataset)\n",
    "print('Test Loss: {:.6f}\\n'.format(test_loss))\n",
    "\n",
    "for i in range(10):\n",
    "    if class_total[i] > 0:\n",
    "        print('Test Accuracy of %5s: %2d%% (%2d/%2d)' % (\n",
    "            classes[i], 100 * class_correct[i] / class_total[i],\n",
    "            np.sum(class_correct[i]), np.sum(class_total[i])))\n",
    "    else:\n",
    "        print('Test Accuracy of %5s: N/A (no training examples)' % (classes[i]))\n",
    "\n",
    "print('\\nTest Accuracy (Overall): %2d%% (%2d/%2d)' % (\n",
    "    100. * np.sum(class_correct) / np.sum(class_total),\n",
    "    np.sum(class_correct), np.sum(class_total)))"
   ]
  },
  {
   "cell_type": "markdown",
   "metadata": {},
   "source": [
    "- [x] Test Accuracy"
   ]
  },
  {
   "cell_type": "markdown",
   "metadata": {},
   "source": [
    "#### Visualize Test Results"
   ]
  },
  {
   "cell_type": "code",
   "execution_count": null,
   "metadata": {},
   "outputs": [],
   "source": [
    "# obtain one batch of test images\n",
    "dataiter = iter(test_loader)\n",
    "images, labels = dataiter.next()\n",
    "images.numpy()\n",
    "\n",
    "# move model inputs to cuda, if GPU available\n",
    "if train_on_gpu:\n",
    "    images = images.cuda()\n",
    "\n",
    "# get sample outputs\n",
    "output = model(images)\n",
    "# convert output probabilities to predicted class\n",
    "_, preds_tensor = torch.max(output, 1)\n",
    "preds = np.squeeze(preds_tensor.numpy()) if not train_on_gpu else np.squeeze(preds_tensor.cpu().numpy())\n",
    "\n",
    "# plot the images in the batch, along with predicted and true labels\n",
    "fig = plt.figure(figsize=(25, 4))\n",
    "for idx in np.arange(batch_size):\n",
    "    ax = fig.add_subplot(2, batch_size/2, idx+1, xticks=[], yticks=[])\n",
    "    imshow(images.cpu()[idx])\n",
    "    ax.set_title(\"{} ({})\".format(classes[preds[idx]], classes[labels[idx]]),\n",
    "                 color=(\"green\" if preds[idx]==labels[idx].item() else \"red\"))"
   ]
  },
  {
   "cell_type": "markdown",
   "metadata": {},
   "source": [
    "## Done!"
   ]
  }
 ],
 "metadata": {
  "kernelspec": {
   "display_name": "Python 3",
   "language": "python",
   "name": "python3"
  },
  "language_info": {
   "codemirror_mode": {
    "name": "ipython",
    "version": 3
   },
   "file_extension": ".py",
   "mimetype": "text/x-python",
   "name": "python",
   "nbconvert_exporter": "python",
   "pygments_lexer": "ipython3",
   "version": "3.7.6"
  }
 },
 "nbformat": 4,
 "nbformat_minor": 4
}
